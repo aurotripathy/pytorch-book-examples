{
 "metadata": {
  "language_info": {
   "codemirror_mode": {
    "name": "ipython",
    "version": 3
   },
   "file_extension": ".py",
   "mimetype": "text/x-python",
   "name": "python",
   "nbconvert_exporter": "python",
   "pygments_lexer": "ipython3",
   "version": "3.8.5-final"
  },
  "orig_nbformat": 2,
  "kernelspec": {
   "name": "python38564bitd2lcondab467b52492f14a028714d30670ea4fa9",
   "display_name": "Python 3.8.5 64-bit ('d2l': conda)",
   "language": "python"
  }
 },
 "nbformat": 4,
 "nbformat_minor": 2,
 "cells": [
  {
   "source": [
    "# Commonly Used Loss Functions\n",
    "\n",
    "The model paramters of Neural Networks are trained using a process known as the back-propagation of errors from a loss function. So model training requires that you choose a loss function when designing your model. \n",
    "\n",
    "In this chapter, we'll walk through a few commonly used loss function available in PyTorch and what's involved in the computation. \n",
    "\n",
    "At a basic level, Loss Functions can be categorized into two categories: Regression Loss and Classification Loss. \n",
    "\n",
    "Below we show examples of both.\n"
   ],
   "cell_type": "markdown",
   "metadata": {}
  },
  {
   "cell_type": "code",
   "execution_count": 1,
   "metadata": {},
   "outputs": [
    {
     "output_type": "stream",
     "name": "stdout",
     "text": [
      "Torch version: 1.7.1\n"
     ]
    }
   ],
   "source": [
    "import torch\n",
    "import torch.nn as nn\n",
    "\n",
    "print(f'Torch version: {torch.__version__}')"
   ]
  },
  {
   "source": [
    "## Regression Analysis with a Regression Loss Function\n",
    "Regression analysis predicts a continuous output variable based on the values of one or more input variables. Briefly, the goal of a regression model is to build a mathematical approximation that defines the output variable as a function of the input variables. An example of a continuous variable is the predicted price of a home based on inputs such as living space, number of rooms, etc. Note, the output is a continuous value, not a discrete value or a categorical value. The input variable can be continuous or discrete.\n",
    "\n",
    "The loss fucntion associated with regression analysis is known as the regression loss. Mean Square Error (MSE) is the most commonly used regression loss function (and we'll illustrate that here with an example.\n",
    "\n",
    "MSE is calculated as the mean of squared difference between predictions and actual observations (also know as the target). Expressed as a computation, it is:\n",
    "\n",
    "`sum( square( predicted_vals - targets ) ) / (number of training samples)` and you'll see it expressed as PyTorch code below.\n",
    "\n",
    "Intuitively, the squaring of the error term means that larger deviations from the target values amplify the error way more than than smaller deviations, meaning that the model is penalized in a square relationship for deviating from the target values.\n",
    "\n",
    "A disadvantage of MSE is that a few (or even one) outlier data points can make the loss unnecessarily large and that maynot be desirable since the squared outlier data point is penalizing the entire mean calculation. \n"
   ],
   "cell_type": "markdown",
   "metadata": {}
  },
  {
   "cell_type": "code",
   "execution_count": 2,
   "metadata": {},
   "outputs": [
    {
     "output_type": "stream",
     "name": "stdout",
     "text": [
      "predicted_vals:\n\t tensor([[-2.9639,  1.4672,  0.8487, -0.7195, -1.9816],\n        [-0.8811, -1.5988,  1.4383,  0.2276, -0.3059],\n        [-1.0753,  0.1708, -0.0526,  1.1169, -1.5161]], requires_grad=True)\ntargets:\n\t tensor([[ 0.3525, -0.2891, -0.2615,  2.5561, -0.5336],\n        [-0.7510, -0.7784,  0.4914,  0.9608, -0.7434],\n        [-1.0682, -1.0122,  1.8483, -1.2479,  0.2343]])\nregression loss:\n\t tensor(2.9418, grad_fn=<MseLossBackward>)\nhand calculated regression loss:\n\t: tensor(2.9418, grad_fn=<DivBackward0>)\n"
     ]
    }
   ],
   "source": [
    "predicted_vals= torch.randn(3, 5, requires_grad=True)\n",
    "targets = torch.randn(3, 5)\n",
    "regression_mse_loss = nn.MSELoss()(predicted_vals, targets)  # calculates mean\n",
    "print('predicted_vals:\\n\\t', predicted_vals)\n",
    "print('targets:\\n\\t', targets)\n",
    "print('regression loss:\\n\\t', regression_mse_loss)\n",
    "hand_calc_regress_mse_loss = torch.sum(torch.square(predicted_vals - targets)) / (targets.shape[0] * targets.shape[1])\n",
    "print('hand calculated regression loss:\\n\\t:', hand_calc_regress_mse_loss)\n",
    "assert torch.equal(regression_mse_loss, hand_calc_regress_mse_loss)"
   ]
  },
  {
   "source": [
    "## Binary Classification with a Cross Entropy Loss Function\n",
    "\n",
    "Measuring the Binary Cross Entropy Loss between the target and the predicted output is done with: \n",
    "\n",
    "`loss = -1 * (target * log(predicted)  +  (1 - target) * log(1 - predicted))` where log means log-base-e\n",
    "\n",
    "We show below with a simple example that the Cross Entropy Loss defined above penalizes misclassifications more, a property that can help in better learning.\n",
    "\n",
    "Assume that the target value is 1. We compute the MSE Loss and the Cross Entropy Loss for a correctly predicted value (0.95) and a wrongly predicted value (0.1), i.e., a misclassification.\n",
    "\n",
    "First, we calculate the MSE loss.\n",
    "\n",
    "| Target &nbsp &nbsp     | Predicted &nbsp &nbsp| MSE Loss | &nbsp &nbsp Comment | \n",
    "| :---:        |    :----:   |          :---: | :--- |\n",
    "| 1      | 0.95       | (1.0 - 0.95)**2 = 0.0025   | &nbsp &nbsp For a correct prediction, loss is small |\n",
    "| 1   | 0.1        | (1.0 - 0.1)**2 = 0.81      | &nbsp &nbsp For a wrong prediction, loss is big\n",
    "\n",
    "For the Cross Entropy Loss, because the target value is 1, the computation reduces to `-1 * target * log(predicted)` or simply `-1 * log(predicted)`.\n",
    "\n",
    "| Target &nbsp &nbsp | Predicted &nbsp &nbsp| Cross Entropy Loss| &nbsp &nbsp Comment | \n",
    "| :---:        |    :----:   |          :---: | :--- |\n",
    "| 1      | 0.95       | -1 * log(0.95) =  0.051  | &nbsp &nbsp Prediction is correct; loss is small |\n",
    "| 1   | 0.1        | -1 * log(0.1) = 2.302      | &nbsp &nbsp Prediction is wrong; loss is LARGE when compared to the MSE loss\n",
    "\n",
    "If the predicted output is close to the desired output, then the loss is small (for both loss functions). The difference is noticeable however when the output is misclassified (0.81 for MSE Loss and 2.302 for Cross Entropy Loss). \n",
    "\n",
    "The Cross Entropy Loss function also has the benefit of learning at a faster pace. To learn (the process of continously updating model parameters), we back-propagate the loss, and that is done by taking the partial derivative of the loss with respect to the weights. In doing so, we can show that the rate at which the model parameters (weights and biases) learn is proportional to `output - target`, i.e., proportional to the error in the output. The larger the error, the faster the model will learn which is a very nice property.\n",
    "\n",
    "In the example below, we create two clusters of normalized data points, 1.5 units apart. Each cluster belongs a class; so we have two classes, class 0 and class 1. The loss computation uses `nn.BCELoss`, the PyTorch Binary Cross Entropy Loss function.\n",
    "\n",
    "It is typical to use the `nn.Sigmoid` activation as the final output of your neural net followed by the nn.BCELoss to calculate the Binary Cross Entropy loss.\n",
    "\n",
    "We also calculate is by hand and ensure we get the same results.\n",
    "\n"
   ],
   "cell_type": "markdown",
   "metadata": {}
  },
  {
   "cell_type": "code",
   "execution_count": 3,
   "metadata": {},
   "outputs": [
    {
     "output_type": "stream",
     "name": "stdout",
     "text": [
      "input:\n\t tensor([ 0.4471,  0.2686, -0.4730,  1.1380,  1.3156,  0.0472])\ntarget:\n\t tensor([0., 0., 0., 1., 1., 1.])\npredicted:\n\t tensor([0.6099, 0.5667, 0.3839, 0.7573, 0.7884, 0.5118])\nunreduced loss:\n\t tensor([0.9415, 0.8364, 0.4844, 0.2780, 0.2377, 0.6698])\nmean loss:\n\t tensor(0.5746)\nhand calculated loss\n\t tensor([0.9415, 0.8364, 0.4844, 0.2780, 0.2377, 0.6698])\n"
     ]
    }
   ],
   "source": [
    "input = torch.cat([torch.randn(3), torch.randn(3) + 1.5])  # two clusters 1.5 units apart\n",
    "target = torch.cat([torch.zeros(3), torch.ones(3)])  # ... from two classes; class 0, class 1\n",
    "predicted = torch.sigmoid(input)\n",
    "\n",
    "unreduced_loss = nn.BCELoss(reduction='none')(predicted, target)\n",
    "mean_loss = nn.BCELoss(reduction='mean')(predicted, target)\n",
    "print('input:\\n\\t', input)\n",
    "print('target:\\n\\t', target)\n",
    "print('predicted:\\n\\t', predicted)\n",
    "print('unreduced loss:\\n\\t', unreduced_loss)\n",
    "print('mean loss:\\n\\t', mean_loss)\n",
    "\n",
    "hand_calc_loss = -1 * (target * torch.log(predicted) + (1 - target) * torch.log(1 - predicted))\n",
    "print('hand calculated loss\\n\\t', hand_calc_loss)\n",
    "assert torch.equal(hand_calc_loss, unreduced_loss)  # check they are the same"
   ]
  },
  {
   "source": [
    "In the exampe above, the Cross Entropy Loss calculation was done in two steps.\n",
    "\n",
    "1. A Sigmoid lon-linearity on the output\n",
    "\n",
    "2. Application of the Binary Cross WEntropy Loss\n",
    "\n",
    "For numerical stability reasons, the two steps above can be collapsed into one step with the `nn.BCEWithLogitsLoss` loss function.\n",
    "\n",
    "`nn.BCEWithLogitsLoss` loss combines a Sigmoid layer and the BCELoss in one single class\n",
    "\n",
    "In the example below, we reuse the input tensor from the code above and show the equivalence.\n"
   ],
   "cell_type": "markdown",
   "metadata": {}
  },
  {
   "cell_type": "code",
   "execution_count": 4,
   "metadata": {},
   "outputs": [
    {
     "output_type": "stream",
     "name": "stdout",
     "text": [
      "unreduced loss:\n tensor([0.9415, 0.8364, 0.4844, 0.2780, 0.2377, 0.6698])\nmean loss:\n tensor(0.5746)\n"
     ]
    }
   ],
   "source": [
    "# inputs and target same as above\n",
    "loss_unreduced = nn.BCEWithLogitsLoss(reduction='none')(input, target)\n",
    "loss_mean = nn.BCEWithLogitsLoss(reduction='mean')(input, target)\n",
    "print('unreduced loss:\\n', unreduced_loss)\n",
    "print('mean loss:\\n', mean_loss)  # will be the same as the two step calculation"
   ]
  },
  {
   "source": [
    "## Multi-Class Classification with a Cross Entropy Loss Function\n",
    "\n",
    "We use this loss function when we train a model to output a probability over multiple classes(multi-class classification). \n",
    "\n",
    "To be concrete, let's ay we're classifying images of digits. It is used for .\n",
    "\n",
    "It is useful when training a classification problem with C classes.\n",
    "The `target` that this loss expects should be a class index in the range :math:`[0, C-1]` where `C = number of classes`; \n",
    "\n",
    "References\n",
    "https://forums.fast.ai/t/nllloss-implementation/20028/\n",
    "\n",
    "https://gombru.github.io/2018/05/23/cross_entropy_loss/\n",
    "\n",
    "https://www.youtube.com/watch?v=7q7E91pHoW4&ab_channel=PythonEngineer\n",
    "\n",
    "\n"
   ],
   "cell_type": "markdown",
   "metadata": {}
  },
  {
   "cell_type": "code",
   "execution_count": 5,
   "metadata": {},
   "outputs": [
    {
     "output_type": "stream",
     "name": "stdout",
     "text": [
      "input:\n\t tensor([[-0.2160, -1.7204,  0.1276, -1.1409, -1.4754],\n        [-0.0730, -0.7012, -1.6942, -0.5264, -0.1453],\n        [ 0.7482, -2.5375,  0.1499, -1.5509,  0.5278],\n        [-0.1652,  0.1398, -0.2193, -0.0302,  0.1148],\n        [-0.8853, -0.1703, -0.8741,  0.2440, -0.3303],\n        [-0.4432,  0.4571, -2.0676,  0.4733, -0.6300],\n        [-0.4423,  0.6099,  1.8465, -0.1155,  0.3033]])\ntarget:\n\t tensor([0, 2, 1, 1, 3, 2, 3])\npredicted:\n\t tensor([[-1.1978, -2.7021, -0.8541, -2.1226, -2.4571],\n        [-1.1930, -1.8212, -2.8142, -1.6464, -1.2653],\n        [-0.9122, -4.1978, -1.5105, -3.2112, -1.1325],\n        [-1.7530, -1.4479, -1.8071, -1.6179, -1.4729],\n        [-2.1851, -1.4700, -2.1738, -1.0558, -1.6300],\n        [-1.9442, -1.0438, -3.5685, -1.0276, -2.1309],\n        [-2.8462, -1.7939, -0.5573, -2.5193, -2.1006]])\nunreduced loss:\n\t tensor([1.1978, 2.8142, 4.1978, 1.4479, 1.0558, 3.5685, 2.5193])\nmean loss:\n\t tensor(2.4002)\nhand calc loss tensor([1.1978, 2.8142, 4.1978, 1.4479, 1.0558, 3.5685, 2.5193])\n"
     ]
    }
   ],
   "source": [
    "\n",
    "input = torch.randn(7, 5)\n",
    "target = torch.randint(5, (7,))\n",
    "# predicted = torch.softmax(input, dim=-1)\n",
    "predicted = nn.LogSoftmax()(input)\n",
    "unreduced_loss = nn.NLLLoss(reduction='none')(predicted, target)\n",
    "mean_loss = nn.NLLLoss(reduction='mean')(predicted, target)\n",
    "print('input:\\n\\t', input)\n",
    "print('target:\\n\\t', target)\n",
    "print('predicted:\\n\\t', predicted)\n",
    "print('unreduced loss:\\n\\t', unreduced_loss)\n",
    "print('mean loss:\\n\\t', mean_loss)\n",
    "\n",
    "def coded_nll_loss(logs, targets):\n",
    "    out = torch.zeros_like(targets, dtype=torch.float)\n",
    "    for i in range(len(targets)):\n",
    "        out[i] = logs[i][targets[i]]\n",
    "    # out = torch.diag(logs[:,targets])  # one-liner instead of loop\n",
    "    return -out  # negative out\n",
    "hand_coded = coded_nll_loss(predicted, target)\n",
    "print('hand calc loss', hand_coded) "
   ]
  },
  {
   "source": [
    "# input and target, same as above\n",
    "loss = nn.CrossEntropyLoss()(input, target)\n",
    "print('unreduced loss:\\n', unreduced_loss)\n",
    "print('mean loss:\\n', mean_loss)"
   ],
   "cell_type": "code",
   "metadata": {},
   "execution_count": 6,
   "outputs": [
    {
     "output_type": "stream",
     "name": "stdout",
     "text": [
      "unreduced loss:\n tensor([1.1978, 2.8142, 4.1978, 1.4479, 1.0558, 3.5685, 2.5193])\nmean loss:\n tensor(2.4002)\n"
     ]
    }
   ]
  },
  {
   "source": [
    "## Multi-Label Categorical Classification\n"
   ],
   "cell_type": "markdown",
   "metadata": {}
  },
  {
   "cell_type": "code",
   "execution_count": 7,
   "metadata": {},
   "outputs": [
    {
     "output_type": "stream",
     "name": "stdout",
     "text": [
      "input:\n",
      " tensor([[-0.8950,  0.9014, -0.0569, -0.6153,  1.9885],\n",
      "        [-0.4626,  0.2669,  0.6811,  0.3441, -0.8225],\n",
      "        [ 0.7108, -0.0324,  0.3900, -0.8149,  1.5479],\n",
      "        [-0.0916,  1.3633, -0.0421, -1.4999,  0.7701],\n",
      "        [ 1.1824,  0.4017, -2.5063, -1.3161, -1.7623],\n",
      "        [-0.6089,  0.7983,  0.1294,  1.2488, -0.7882],\n",
      "        [ 0.8558,  0.4784,  0.0946, -0.1078,  0.4479]])\n",
      "target:\n",
      " tensor([[0., 1., 1., 1., 1.],\n",
      "        [1., 1., 0., 1., 0.],\n",
      "        [1., 1., 1., 1., 1.],\n",
      "        [0., 0., 1., 1., 0.],\n",
      "        [1., 0., 0., 1., 1.],\n",
      "        [1., 1., 0., 1., 1.],\n",
      "        [1., 1., 1., 1., 1.]])\n",
      "predicted:\n",
      " tensor([[0.2901, 0.7112, 0.4858, 0.3509, 0.8796],\n",
      "        [0.3864, 0.5663, 0.6640, 0.5852, 0.3052],\n",
      "        [0.6706, 0.4919, 0.5963, 0.3069, 0.8246],\n",
      "        [0.4771, 0.7963, 0.4895, 0.1824, 0.6836],\n",
      "        [0.7654, 0.5991, 0.0754, 0.2115, 0.1465],\n",
      "        [0.3523, 0.6896, 0.5323, 0.7771, 0.3126],\n",
      "        [0.7018, 0.6174, 0.5236, 0.4731, 0.6101]])\n",
      "unreduced loss:\n",
      " tensor([[0.3426, 0.3408, 0.7220, 1.0474, 0.1283],\n",
      "        [0.9510, 0.5686, 1.0906, 0.5358, 0.3642],\n",
      "        [0.3996, 0.7095, 0.5170, 1.1814, 0.1929],\n",
      "        [0.6484, 1.5911, 0.7144, 1.7013, 1.1506],\n",
      "        [0.2674, 0.9140, 0.0784, 1.5537, 1.9207],\n",
      "        [1.0433, 0.3716, 0.7599, 0.2522, 1.1630],\n",
      "        [0.3541, 0.4823, 0.6470, 0.7485, 0.4941]])\n",
      "mean loss:\n",
      " tensor(0.7414)\n"
     ]
    }
   ],
   "source": [
    "input = torch.randn(7, 5)\n",
    "target = torch.randint(2, (7, 5), dtype=torch.float)\n",
    "predicted = torch.sigmoid(input)\n",
    "unreduced_loss = nn.BCELoss(reduction='none')(predicted, target)\n",
    "mean_loss = nn.BCELoss(reduction='mean')(predicted, target)\n",
    "print('input:\\n', input)\n",
    "print('target:\\n', target)\n",
    "print('predicted:\\n', predicted)\n",
    "print('unreduced loss:\\n', unreduced_loss)\n",
    "print('mean loss:\\n', mean_loss)"
   ]
  },
  {
   "cell_type": "code",
   "execution_count": 8,
   "metadata": {},
   "outputs": [
    {
     "output_type": "stream",
     "name": "stdout",
     "text": [
      "unreduced loss:\n tensor([[0.3426, 0.3408, 0.7220, 1.0474, 0.1283],\n        [0.9510, 0.5686, 1.0906, 0.5358, 0.3642],\n        [0.3996, 0.7095, 0.5170, 1.1814, 0.1929],\n        [0.6484, 1.5911, 0.7144, 1.7013, 1.1506],\n        [0.2674, 0.9140, 0.0784, 1.5537, 1.9207],\n        [1.0433, 0.3716, 0.7599, 0.2522, 1.1630],\n        [0.3541, 0.4823, 0.6470, 0.7485, 0.4941]])\nmean loss:\n tensor(0.7414)\n"
     ]
    }
   ],
   "source": [
    "# inputs and targets ramins the same as above\n",
    "unreduced_loss = nn.BCEWithLogitsLoss(reduction='none')(input, target)\n",
    "mean_loss = nn.BCELoss(reduction='mean')(predicted, target)\n",
    "print('unreduced loss:\\n', unreduced_loss)\n",
    "print('mean loss:\\n', mean_loss)"
   ]
  },
  {
   "cell_type": "code",
   "execution_count": 9,
   "metadata": {},
   "outputs": [],
   "source": [
    "assert torch.equal(torch.tensor([1, 2]), torch.tensor([1, 2]))"
   ]
  },
  {
   "cell_type": "code",
   "execution_count": null,
   "metadata": {},
   "outputs": [],
   "source": []
  }
 ]
}