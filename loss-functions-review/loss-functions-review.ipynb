{
 "metadata": {
  "language_info": {
   "codemirror_mode": {
    "name": "ipython",
    "version": 3
   },
   "file_extension": ".py",
   "mimetype": "text/x-python",
   "name": "python",
   "nbconvert_exporter": "python",
   "pygments_lexer": "ipython3",
   "version": "3.8.5-final"
  },
  "orig_nbformat": 2,
  "kernelspec": {
   "name": "python38564bitd2lcondab467b52492f14a028714d30670ea4fa9",
   "display_name": "Python 3.8.5 64-bit ('d2l': conda)",
   "language": "python"
  }
 },
 "nbformat": 4,
 "nbformat_minor": 2,
 "cells": [
  {
   "source": [
    "# Commonly Used Loss Functions\n",
    "\n",
    "The model paramters of Neural Networks are trained using a process known as the back-propagation of errors from a loss function. So model training requires that you choose a loss function when designing your model. \n",
    "\n",
    "In this chapter, we'll walk through a few commonly used loss function available in PyTorch and what's involved in the computation. \n",
    "\n",
    "At a bisic level, Loss Functions can be categorized into two categories: Classification Loss and Regression Loss. \n",
    "\n",
    "Below we show examples of both.\n"
   ],
   "cell_type": "markdown",
   "metadata": {}
  },
  {
   "cell_type": "code",
   "execution_count": 1,
   "metadata": {},
   "outputs": [
    {
     "output_type": "stream",
     "name": "stdout",
     "text": [
      "Torch version: 1.7.1\n"
     ]
    }
   ],
   "source": [
    "import torch\n",
    "import torch.nn as nn\n",
    "\n",
    "print(f'Torch version: {torch.__version__}')"
   ]
  },
  {
   "source": [
    "## Regression Analysis with a Regression Loss Function\n",
    "Regression analysis predicts a continuous output variable based on the value of one or more input variables. Briefly, the goal of regression model is to build a mathematical approximation that defines the output variable as a function of the input variables. An example of a continuous variable is: the predicted price of a home based on inputs such as living space, number of rooms, etc. Note, the output is a continuous value, not a discrete value or a categorical value. The input variable can be continuous ro discrete.\n",
    "\n",
    "The loss fucntion associated with regression analysis is known as the regression loss. Mean Square Error (MSE) is the most commonly used regression loss function (as we'll illustrate that here with an example). MSE is the sum of squared distances between the target variable and predicted values.\n",
    "\n",
    "MSE is calculated as the mean of squared difference between predictions and actual observations (also know as the target). Expressed as a computaiton, it is:\n",
    "\n",
    "`sum( square( predicted_vals - targets ) ) / (number of training samples)` and you'll see it expressed as PyTorch code below.\n",
    "\n",
    "Intuitively, the squaring of the error term means that larger deviations from the target values amplify the error way more than than smaller deviations, meaning that the model is penalized more for deviating more from the target values.\n"
   ],
   "cell_type": "markdown",
   "metadata": {}
  },
  {
   "cell_type": "code",
   "execution_count": 2,
   "metadata": {},
   "outputs": [
    {
     "output_type": "stream",
     "name": "stdout",
     "text": [
      "predicted_vals:\n\t tensor([[ 1.0039, -0.6457, -1.3066, -0.6071, -0.1067],\n        [-0.1304,  2.0721,  0.2749,  0.1164, -0.8147],\n        [-0.5657,  0.9203, -0.3077,  1.4288, -3.7896]], requires_grad=True)\ntargets:\n\t tensor([[ 0.6040, -0.7033,  1.2591,  0.6451,  0.6520],\n        [-0.1254,  0.9277, -1.2089, -0.0797, -0.5148],\n        [-0.1149, -0.0926,  0.1163,  0.2851,  0.8966]])\nregression loss:\n\t tensor(2.4805, grad_fn=<MseLossBackward>)\nhand calculated regression loss:\n\t: tensor(2.4805, grad_fn=<DivBackward0>)\n"
     ]
    }
   ],
   "source": [
    "predicted_vals= torch.randn(3, 5, requires_grad=True)\n",
    "targets = torch.randn(3, 5)\n",
    "regression_mse_loss = nn.MSELoss()(predicted_vals, targets)  # calculates mean\n",
    "print('predicted_vals:\\n\\t', predicted_vals)\n",
    "print('targets:\\n\\t', targets)\n",
    "print('regression loss:\\n\\t', regression_mse_loss)\n",
    "hand_calc_regress_mse_loss = torch.sum(torch.square(predicted_vals - targets)) / (targets.shape[0] * targets.shape[1])\n",
    "print('hand calculated regression loss:\\n\\t:', hand_calc_regress_mse_loss)\n",
    "assert torch.equal(regression_mse_loss, hand_calc_regress_mse_loss)"
   ]
  },
  {
   "source": [
    "## Binary Classification with a Cross Entropy Loss Function\n",
    "\n",
    "Measuring the Binary Cross Entropy Loss between the target and the predicted output is done with: \n",
    "\n",
    "`loss = -1 * (target * log(predicted)  +  (1 - target) * log(1 - predicted))` where log means log-base-e\n",
    "\n",
    "We show below with a simple example that the Cross Entropy Loss defined above penalizes misclassifications more, a property that can help in better learning.\n",
    "\n",
    "We compute the MSE Loss and the Cross Entropy Loss for a correctly predicted value (0.95) and a wrongly predicted value (0.1), i.e., a misclassification. In both cases the target value is 1.\n",
    "\n",
    "Below we calculate the MSE loss.\n",
    "\n",
    "| Target &nbsp &nbsp     | Predicted &nbsp &nbsp| MSE Loss | &nbsp &nbsp Comment | \n",
    "| :---:        |    :----:   |          :---: | :--- |\n",
    "| 1      | 0.95       | (1.0 - 0.95)**2 = 0.0025   | &nbsp &nbsp For a correct predictin, loss is small |\n",
    "| 1   | 0.1        | (1.0 - 0.1)**2 = 0.81      | &nbsp &nbsp For a wrong predictiob, loss is big\n",
    "\n",
    "For the Cross Entropy Loss, the computation reduces to `-1 * target * log(predicted)` or simply `-1 * log(predicted)` since target value is 1.\n",
    "\n",
    "| Target &nbsp &nbsp | Predicted &nbsp &nbsp| Cross Entropy Loss| &nbsp &nbsp Comment | \n",
    "| :---:        |    :----:   |          :---: | :--- |\n",
    "| 1      | 0.95       | -1 * log(0.95) =  0.051  | &nbsp &nbsp Prediction is correct; loss is small |\n",
    "| 1   | 0.1        | -1 * log(0.1) = 2.302      | &nbsp &nbsp Prediction is wrong; loss is LARGE\n",
    "\n",
    "If the predicted output is close to the desired output, then the loss is small (for both loss functions). The difference is noticeable however when the output is misclassified (0.81 for MSE Loss and 2.302 for Cross Entropy Loss). \n",
    "\n",
    "The Cross Entropy Loss function also has the benefit of learning at a faster pace. To learn (update model parameters), we back-propagate the loss, and that is done by taking the partial derivative of the loss with respect to the weights. In doing so, we can show that the rate at which the model parameters (weights and biases) learn is proportional to `output - target`, i.e., proportional to the error in the output. The larger the error, the faster the model will learn which is a very nice property.\n",
    "\n",
    "In the example below, we create two clusters of normalized data points 1.5 units apart. Each cluster belongs a class; so we have two classes, class 0 and class 1. The loss computation uses `nn.BCELoss`, the PyTorch Binary Cross Entropy Loss function.\n",
    "\n",
    "It is typical to use the nn.Sigmoid activation as the output layer followed by the nn.BCELoss to calculate the Binary Cross Entropy loss.\n",
    "\n",
    "We also calculate is by hand and ensure we get the same results.\n",
    "\n"
   ],
   "cell_type": "markdown",
   "metadata": {}
  },
  {
   "cell_type": "code",
   "execution_count": 3,
   "metadata": {},
   "outputs": [
    {
     "output_type": "stream",
     "name": "stdout",
     "text": [
      "input:\n\t tensor([-0.7816,  0.8957,  0.4969,  2.9781,  3.1644,  2.4352])\ntarget:\n\t tensor([0., 0., 0., 1., 1., 1.])\npredicted:\n\t tensor([0.3140, 0.7101, 0.6217, 0.9516, 0.9595, 0.9195])\nunreduced loss:\n\t tensor([0.3768, 1.2381, 0.9722, 0.0496, 0.0414, 0.0840])\nmean loss:\n\t tensor(0.4603)\nhand calculated loss\n\t tensor([0.3768, 1.2381, 0.9722, 0.0496, 0.0414, 0.0840])\n"
     ]
    }
   ],
   "source": [
    "input = torch.cat([torch.randn(3), torch.randn(3) + 1.5])  # two clusters 1.5 units apart\n",
    "target = torch.cat([torch.zeros(3), torch.ones(3)])  # ... from two classes; class 0, class 1\n",
    "predicted = torch.sigmoid(input)\n",
    "\n",
    "unreduced_loss = nn.BCELoss(reduction='none')(predicted, target)\n",
    "mean_loss = nn.BCELoss(reduction='mean')(predicted, target)\n",
    "print('input:\\n\\t', input)\n",
    "print('target:\\n\\t', target)\n",
    "print('predicted:\\n\\t', predicted)\n",
    "print('unreduced loss:\\n\\t', unreduced_loss)\n",
    "print('mean loss:\\n\\t', mean_loss)\n",
    "\n",
    "hand_calc_loss = -1 * (target * torch.log(predicted) + (1 - target) * torch.log(1 - predicted))\n",
    "print('hand calculated loss\\n\\t', hand_calc_loss)\n",
    "assert torch.equal(hand_calc_loss, unreduced_loss)  # check they are the same"
   ]
  },
  {
   "source": [
    "In the exampe above, the Cross Entropy Loss calculation was done in two steps.\n",
    "1. A Sigmoid lon-linearity on the output\n",
    "2. Application of the Binary Corss WEntropy Loss\n",
    "\n",
    "For numerical stability reasons, the two steps above can be collapsed into one step with the `nn.BCEWithLogitsLoss` loss function.\n",
    "`nn.BCEWithLogitsLoss` loss combines a Sigmoid layer and the BCELoss in one single class\n",
    "\n",
    "In the example below, we reuse the input tensor from above and show the equivalence.\n"
   ],
   "cell_type": "markdown",
   "metadata": {}
  },
  {
   "cell_type": "code",
   "execution_count": 5,
   "metadata": {},
   "outputs": [
    {
     "output_type": "stream",
     "name": "stdout",
     "text": [
      "unreduced loss:\n tensor([0.8561, 0.6236, 1.5947, 0.1294, 0.5867, 0.3515])\nmean loss:\n tensor(0.6903)\n"
     ]
    }
   ],
   "source": [
    "# inputs and target same as above\n",
    "loss_unreduced = nn.BCEWithLogitsLoss(reduction='none')(input, target)\n",
    "loss_mean = nn.BCEWithLogitsLoss(reduction='mean')(input, target)\n",
    "print('unreduced loss:\\n', unreduced_loss)\n",
    "print('mean loss:\\n', mean_loss)  # will be the same as the two step calculation"
   ]
  },
  {
   "source": [
    "## Multi-Class Classification with a Cross Entropy Loss Function\n",
    "\n",
    "We use this loss function when we train a model to output a probability over multiple classes(multi-class classification). \n",
    "\n",
    "To be concrete, let's ay we're classifying images of digits. It is used for .\n",
    "\n",
    "It is useful when training a classification problem with C classes.\n",
    "The `target` that this loss expects should be a class index in the range :math:`[0, C-1]` where `C = number of classes`; \n",
    "\n",
    "References\n",
    "https://forums.fast.ai/t/nllloss-implementation/20028/\n",
    "\n",
    "https://gombru.github.io/2018/05/23/cross_entropy_loss/\n",
    "\n",
    "https://www.youtube.com/watch?v=7q7E91pHoW4&ab_channel=PythonEngineer\n",
    "\n",
    "\n"
   ],
   "cell_type": "markdown",
   "metadata": {}
  },
  {
   "cell_type": "code",
   "execution_count": 4,
   "metadata": {},
   "outputs": [
    {
     "output_type": "stream",
     "name": "stdout",
     "text": [
      "input:\n\t tensor([[-1.0378e+00,  3.8241e-01,  7.4357e-01, -1.5864e-01,  1.2322e+00],\n        [-3.0680e-01,  4.0609e-01, -4.5084e-01, -7.6833e-01,  3.6217e-02],\n        [-1.5142e+00,  1.0059e-01,  2.3358e-02,  1.1518e+00, -4.5974e-01],\n        [-1.4887e+00, -5.6808e-01, -1.8939e+00,  1.7082e-01,  4.6464e-01],\n        [-5.4393e-01,  1.1777e+00,  1.6071e+00,  2.7852e-02, -8.0960e-01],\n        [ 1.6506e+00, -1.2790e+00,  2.6135e-01,  6.1170e-01, -7.3882e-04],\n        [ 2.8466e+00, -8.0100e-01,  3.4753e-01, -3.0685e-01,  7.6342e-01]])\ntarget:\n\t tensor([1, 2, 1, 2, 2, 3, 3])\npredicted:\n\t tensor([[-3.1427, -1.7224, -1.3613, -2.2635, -0.8726],\n        [-1.7826, -1.0697, -1.9266, -2.2441, -1.4396],\n        [-3.3298, -1.7150, -1.7923, -0.6638, -2.2754],\n        [-2.8025, -1.8819, -3.2077, -1.1430, -0.8492],\n        [-2.8750, -1.1534, -0.7240, -2.3032, -3.1407],\n        [-0.6143, -3.5439, -2.0035, -1.6532, -2.2656],\n        [-0.2433, -3.8909, -2.7424, -3.3968, -2.3265]])\nunreduced loss:\n\t tensor([1.7224, 1.9266, 1.7150, 3.2077, 0.7240, 1.6532, 3.3968])\nmean loss:\n\t tensor(2.0494)\nhand calc loss tensor([1.7224, 1.9266, 1.7150, 3.2077, 0.7240, 1.6532, 3.3968])\n"
     ]
    }
   ],
   "source": [
    "\n",
    "input = torch.randn(7, 5)\n",
    "target = torch.randint(5, (7,))\n",
    "# predicted = torch.softmax(input, dim=-1)\n",
    "predicted = nn.LogSoftmax()(input)\n",
    "unreduced_loss = nn.NLLLoss(reduction='none')(predicted, target)\n",
    "mean_loss = nn.NLLLoss(reduction='mean')(predicted, target)\n",
    "print('input:\\n\\t', input)\n",
    "print('target:\\n\\t', target)\n",
    "print('predicted:\\n\\t', predicted)\n",
    "print('unreduced loss:\\n\\t', unreduced_loss)\n",
    "print('mean loss:\\n\\t', mean_loss)\n",
    "\n",
    "def coded_nll_loss(logs, targets):\n",
    "    out = torch.zeros_like(targets, dtype=torch.float)\n",
    "    for i in range(len(targets)):\n",
    "        out[i] = logs[i][targets[i]]\n",
    "    # out = torch.diag(logs[:,targets])  # one-liner instead of loop\n",
    "    return -out  # negative out\n",
    "hand_coded = coded_nll_loss(predicted, target)\n",
    "print('hand calc loss', hand_coded) "
   ]
  },
  {
   "source": [
    "# input and target, same as above\n",
    "loss = nn.CrossEntropyLoss()(input, target)\n",
    "print('unreduced loss:\\n', unreduced_loss)\n",
    "print('mean loss:\\n', mean_loss)"
   ],
   "cell_type": "code",
   "metadata": {},
   "execution_count": 5,
   "outputs": [
    {
     "output_type": "stream",
     "name": "stdout",
     "text": [
      "unreduced loss:\n tensor([1.7224, 1.9266, 1.7150, 3.2077, 0.7240, 1.6532, 3.3968])\nmean loss:\n tensor(2.0494)\n"
     ]
    }
   ]
  },
  {
   "source": [
    "## Multi-Label Categorical Classification\n"
   ],
   "cell_type": "markdown",
   "metadata": {}
  },
  {
   "cell_type": "code",
   "execution_count": 6,
   "metadata": {},
   "outputs": [
    {
     "output_type": "stream",
     "name": "stdout",
     "text": [
      "input:\n tensor([[-1.2502, -1.1392,  0.4723,  1.1843,  2.1823],\n        [-1.4041,  0.2953, -0.7898,  1.0377, -0.0668],\n        [-0.4266,  0.6901,  1.1937,  0.2577, -0.8288],\n        [-0.9240,  1.6145,  0.7464,  0.7444, -1.3918],\n        [ 1.5455,  1.4927,  0.3397,  2.5424, -0.6971],\n        [ 0.7288, -0.5748,  1.5685, -0.3264,  0.6863],\n        [ 0.1455, -0.5103, -0.2337, -0.7066, -0.1487]])\ntarget:\n tensor([[0., 0., 0., 1., 1.],\n        [1., 1., 0., 0., 1.],\n        [0., 0., 0., 1., 1.],\n        [1., 1., 1., 1., 1.],\n        [1., 1., 0., 0., 0.],\n        [0., 1., 1., 1., 1.],\n        [1., 1., 0., 1., 1.]])\npredicted:\n tensor([[0.2227, 0.2425, 0.6159, 0.7657, 0.8986],\n        [0.1972, 0.5733, 0.3122, 0.7384, 0.4833],\n        [0.3949, 0.6660, 0.7674, 0.5641, 0.3039],\n        [0.2841, 0.8340, 0.6784, 0.6780, 0.1991],\n        [0.8243, 0.8165, 0.5841, 0.9271, 0.3325],\n        [0.6745, 0.3601, 0.8276, 0.4191, 0.6652],\n        [0.5363, 0.3751, 0.4418, 0.3304, 0.4629]])\nunreduced loss:\n tensor([[0.2519, 0.2777, 0.9569, 0.2669, 0.1069],\n        [1.6237, 0.5563, 0.3743, 1.3410, 0.7271],\n        [0.5024, 1.0966, 1.4585, 0.5726, 1.1911],\n        [1.2583, 0.1815, 0.3880, 0.3887, 1.6138],\n        [0.1933, 0.2028, 0.8773, 2.6182, 0.4042],\n        [1.1225, 1.0213, 0.1893, 0.8696, 0.4077],\n        [0.6230, 0.9805, 0.5831, 1.1076, 0.7702]])\nmean loss:\n tensor(0.7744)\n"
     ]
    }
   ],
   "source": [
    "input = torch.randn(7, 5)\n",
    "target = torch.randint(2, (7, 5), dtype=torch.float)\n",
    "predicted = torch.sigmoid(input)\n",
    "unreduced_loss = nn.BCELoss(reduction='none')(predicted, target)\n",
    "mean_loss = nn.BCELoss(reduction='mean')(predicted, target)\n",
    "print('input:\\n', input)\n",
    "print('target:\\n', target)\n",
    "print('predicted:\\n', predicted)\n",
    "print('unreduced loss:\\n', unreduced_loss)\n",
    "print('mean loss:\\n', mean_loss)"
   ]
  },
  {
   "cell_type": "code",
   "execution_count": 7,
   "metadata": {},
   "outputs": [
    {
     "output_type": "stream",
     "name": "stdout",
     "text": [
      "unreduced loss:\n tensor([[0.2519, 0.2777, 0.9569, 0.2669, 0.1069],\n        [1.6237, 0.5563, 0.3743, 1.3410, 0.7271],\n        [0.5024, 1.0966, 1.4585, 0.5726, 1.1911],\n        [1.2583, 0.1815, 0.3880, 0.3887, 1.6138],\n        [0.1933, 0.2028, 0.8773, 2.6182, 0.4042],\n        [1.1225, 1.0213, 0.1893, 0.8696, 0.4077],\n        [0.6230, 0.9805, 0.5831, 1.1076, 0.7702]])\nmean loss:\n tensor(0.7744)\n"
     ]
    }
   ],
   "source": [
    "# inputs and targets ramins the same as above\n",
    "unreduced_loss = nn.BCEWithLogitsLoss(reduction='none')(input, target)\n",
    "mean_loss = nn.BCELoss(reduction='mean')(predicted, target)\n",
    "print('unreduced loss:\\n', unreduced_loss)\n",
    "print('mean loss:\\n', mean_loss)"
   ]
  },
  {
   "cell_type": "code",
   "execution_count": 8,
   "metadata": {},
   "outputs": [],
   "source": [
    "assert torch.equal(torch.tensor([1, 2]), torch.tensor([1, 2]))"
   ]
  },
  {
   "cell_type": "code",
   "execution_count": null,
   "metadata": {},
   "outputs": [],
   "source": []
  }
 ]
}